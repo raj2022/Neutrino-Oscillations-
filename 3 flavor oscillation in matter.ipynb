{
 "cells": [
  {
   "cell_type": "markdown",
   "id": "818acfb3",
   "metadata": {},
   "source": [
    "# Oscillation Probability"
   ]
  },
  {
   "cell_type": "code",
   "execution_count": 1,
   "id": "a7ccc8c6",
   "metadata": {},
   "outputs": [],
   "source": [
    "import numpy as np\n",
    "import matplotlib.pyplot as plt\n",
    "%matplotlib inline\n",
    "import math"
   ]
  },
  {
   "cell_type": "code",
   "execution_count": 2,
   "id": "910909bc",
   "metadata": {},
   "outputs": [],
   "source": [
    "#parameters\n",
    "theta_12 = math.asin(np.sqrt(0.307))  \n",
    "dm_21 = np.sqrt(7.53e-5)\n",
    "theta_23 = math.asin(np.sqrt(0.536))\n",
    "dm_32 = np.sqrt(0.00255)\n",
    "theta_13 = math.asin(np.sqrt(0.0218))"
   ]
  },
  {
   "cell_type": "code",
   "execution_count": 3,
   "id": "1bd682c2",
   "metadata": {},
   "outputs": [],
   "source": [
    "s_23 = (np.sin(theta_23))**2\n",
    "s_12 = (np.sin(theta_12))**2\n",
    "s_13 = s_12+s_23"
   ]
  },
  {
   "cell_type": "code",
   "execution_count": 50,
   "id": "ead513d2",
   "metadata": {},
   "outputs": [],
   "source": [
    "#values of the energy\n",
    "E_1 = np.linspace(0.0,2.0,100)\n",
    "E_2 = 2\n",
    "\n",
    "#other parameters\n",
    "dm_31 = dm_32+dm_21\n",
    "alpha= dm_21**2/dm_31**2\n",
    "# A = 2*E*V/dm_31**2"
   ]
  },
  {
   "cell_type": "code",
   "execution_count": 51,
   "id": "4b476fc1",
   "metadata": {},
   "outputs": [],
   "source": [
    "E_1;"
   ]
  },
  {
   "cell_type": "code",
   "execution_count": 52,
   "id": "9a431174",
   "metadata": {},
   "outputs": [],
   "source": [
    "L_1 = 810\n"
   ]
  },
  {
   "cell_type": "code",
   "execution_count": 53,
   "id": "127a8ab7",
   "metadata": {},
   "outputs": [],
   "source": [
    "d_CP = 1.37*np.pi"
   ]
  },
  {
   "cell_type": "code",
   "execution_count": 54,
   "id": "81eaee1b",
   "metadata": {},
   "outputs": [],
   "source": [
    "delta_1 = ((dm_31**2) *L_1)/4*E_1\n",
    "\n"
   ]
  },
  {
   "cell_type": "code",
   "execution_count": 81,
   "id": "3bdbc6d2",
   "metadata": {},
   "outputs": [
    {
     "data": {
      "text/plain": [
       "3.78"
      ]
     },
     "execution_count": 81,
     "metadata": {},
     "output_type": "execute_result"
    }
   ],
   "source": [
    "# Potential\n",
    "V = 7.56*0.5\n",
    "V"
   ]
  },
  {
   "cell_type": "code",
   "execution_count": 82,
   "id": "22b25138",
   "metadata": {},
   "outputs": [],
   "source": [
    "#other parameters\n",
    "c_13 = np.sqrt(1-(np.sin(theta_13))**2)\n",
    "c_12 = np.sqrt(1-(np.sin(theta_12))**2)\n",
    "c_23 = np.sqrt(1-(np.sin(theta_23))**2)"
   ]
  },
  {
   "cell_type": "code",
   "execution_count": 83,
   "id": "483acf72",
   "metadata": {},
   "outputs": [],
   "source": [
    "A = (2*E_1*V)/dm_31**2"
   ]
  },
  {
   "cell_type": "code",
   "execution_count": 84,
   "id": "f16cce86",
   "metadata": {
    "scrolled": true
   },
   "outputs": [
    {
     "name": "stderr",
     "output_type": "stream",
     "text": [
      "/tmp/ipykernel_586/2358315939.py:1: RuntimeWarning: invalid value encountered in true_divide\n",
      "  term_1 = (alpha**2)*((np.sin(2*theta_12))**2)*(c_23**2)*(((np.sin(A*delta_1))**2)/A**2)\n"
     ]
    }
   ],
   "source": [
    "term_1 = (alpha**2)*((np.sin(2*theta_12))**2)*(c_23**2)*(((np.sin(A*delta_1))**2)/A**2)"
   ]
  },
  {
   "cell_type": "code",
   "execution_count": 85,
   "id": "75a9e6e5",
   "metadata": {},
   "outputs": [],
   "source": [
    "term_2 = 4*(s_13**2)*(s_23**2)*((np.sin((A-1)*delta_1))**2)/(A-1)**2"
   ]
  },
  {
   "cell_type": "code",
   "execution_count": 86,
   "id": "4ffccdf9",
   "metadata": {},
   "outputs": [
    {
     "name": "stderr",
     "output_type": "stream",
     "text": [
      "/tmp/ipykernel_586/3475017529.py:1: RuntimeWarning: invalid value encountered in true_divide\n",
      "  term_3 = 2*alpha*s_13*(np.sin(2*theta_12))*(np.sin(2*theta_23))*(np.cos(delta_1+d_CP))*((np.sin(A*delta_1))/A)*((np.sin((A-1)*delta_1))/(A-1))\n"
     ]
    }
   ],
   "source": [
    "term_3 = 2*alpha*s_13*(np.sin(2*theta_12))*(np.sin(2*theta_23))*(np.cos(delta_1+d_CP))*((np.sin(A*delta_1))/A)*((np.sin((A-1)*delta_1))/(A-1))"
   ]
  },
  {
   "cell_type": "code",
   "execution_count": 87,
   "id": "0ae866cb",
   "metadata": {},
   "outputs": [],
   "source": [
    "#Required Proabability\n",
    "P = term_1+term_2+term_3"
   ]
  },
  {
   "cell_type": "code",
   "execution_count": 88,
   "id": "a8d66313",
   "metadata": {},
   "outputs": [
    {
     "data": {
      "text/plain": [
       "[<matplotlib.lines.Line2D at 0x7f7c0b182460>]"
      ]
     },
     "execution_count": 88,
     "metadata": {},
     "output_type": "execute_result"
    },
    {
     "data": {
      "image/png": "[encoded data removed]",
      "text/plain": [
       "<Figure size 432x288 with 1 Axes>"
      ]
     },
     "metadata": {
      "needs_background": "light"
     },
     "output_type": "display_data"
    }
   ],
   "source": [
    "plt.plot(E_1,P)"
   ]
  },
  {
   "cell_type": "code",
   "execution_count": 89,
   "id": "7f9c3bd4",
   "metadata": {},
   "outputs": [],
   "source": [
    "# plt.plot(E_1,term_3)"
   ]
  },
  {
   "cell_type": "code",
   "execution_count": 90,
   "id": "4482f494",
   "metadata": {},
   "outputs": [],
   "source": [
    "L_2= 8000 #km\n"
   ]
  },
  {
   "cell_type": "code",
   "execution_count": 91,
   "id": "e66c6f62",
   "metadata": {},
   "outputs": [],
   "source": [
    "delta_2 = ((dm_31**2) *L_2)/4*E_1"
   ]
  },
  {
   "cell_type": "code",
   "execution_count": 92,
   "id": "dcf88f39",
   "metadata": {},
   "outputs": [
    {
     "name": "stderr",
     "output_type": "stream",
     "text": [
      "/tmp/ipykernel_586/554485887.py:1: RuntimeWarning: invalid value encountered in true_divide\n",
      "  term_12 = (alpha**2)*((np.sin(2*theta_12))**2)*(c_23**2)*(((np.sin(A*delta_2))**2)/A**2)\n"
     ]
    }
   ],
   "source": [
    "term_12 = (alpha**2)*((np.sin(2*theta_12))**2)*(c_23**2)*(((np.sin(A*delta_2))**2)/A**2)"
   ]
  },
  {
   "cell_type": "code",
   "execution_count": 93,
   "id": "93daec3e",
   "metadata": {},
   "outputs": [],
   "source": [
    "term_2 = 4*(s_13**2)*(s_23**2)*((np.sin((A-1)*delta_2))**2)/(A-1)**2"
   ]
  },
  {
   "cell_type": "code",
   "execution_count": 94,
   "id": "7777c0a1",
   "metadata": {},
   "outputs": [
    {
     "name": "stderr",
     "output_type": "stream",
     "text": [
      "/tmp/ipykernel_586/3324179012.py:1: RuntimeWarning: invalid value encountered in true_divide\n",
      "  term_3 = 2*alpha*s_13*(np.sin(2*theta_12))*(np.sin(2*theta_23))*(np.cos(delta_2+d_CP))*((np.sin(A*delta_2))/A)*((np.sin((A-1)*delta_2))/(A-1))\n"
     ]
    }
   ],
   "source": [
    "term_3 = 2*alpha*s_13*(np.sin(2*theta_12))*(np.sin(2*theta_23))*(np.cos(delta_2+d_CP))*((np.sin(A*delta_2))/A)*((np.sin((A-1)*delta_2))/(A-1))"
   ]
  },
  {
   "cell_type": "code",
   "execution_count": 95,
   "id": "261617c1",
   "metadata": {},
   "outputs": [],
   "source": [
    "#Required Proabability\n",
    "P_2 = term_1+term_2+term_3"
   ]
  },
  {
   "cell_type": "code",
   "execution_count": 96,
   "id": "1396c636",
   "metadata": {},
   "outputs": [
    {
     "data": {
      "text/plain": [
       "[<matplotlib.lines.Line2D at 0x7f7c0b368520>]"
      ]
     },
     "execution_count": 96,
     "metadata": {},
     "output_type": "execute_result"
    },
    {
     "data": {
      "image/png": "[encoded data removed]",
      "text/plain": [
       "<Figure size 432x288 with 1 Axes>"
      ]
     },
     "metadata": {
      "needs_background": "light"
     },
     "output_type": "display_data"
    }
   ],
   "source": [
    "plt.plot(E_1,P_2)"
   ]
  },
  {
   "cell_type": "code",
   "execution_count": 71,
   "id": "b6232db6",
   "metadata": {},
   "outputs": [],
   "source": [
    "# f = [0,90,180]\n",
    "# for d_CP in f:\n",
    "#     term_3 = 2*alpha*s_13*(np.sin(2*theta_12))*(np.sin(2*theta_23))*(np.cos(delta_2+d_CP))*((np.sin(A*delta_2))/A)*((np.sin((A-1)*delta_2))/(A-1))\n",
    "#     P_3 =term_1+term_2+term_3\n",
    "#     plt.plot(E_1,P_3)"
   ]
  },
  {
   "cell_type": "code",
   "execution_count": 102,
   "id": "b8a355bb",
   "metadata": {},
   "outputs": [],
   "source": [
    "d_CP_1 = np.pi/2\n",
    "d_CP_2 =np.pi"
   ]
  },
  {
   "cell_type": "code",
   "execution_count": 103,
   "id": "1894bb90",
   "metadata": {},
   "outputs": [
    {
     "name": "stderr",
     "output_type": "stream",
     "text": [
      "/tmp/ipykernel_586/3324179012.py:1: RuntimeWarning: invalid value encountered in true_divide\n",
      "  term_3 = 2*alpha*s_13*(np.sin(2*theta_12))*(np.sin(2*theta_23))*(np.cos(delta_2+d_CP))*((np.sin(A*delta_2))/A)*((np.sin((A-1)*delta_2))/(A-1))\n"
     ]
    }
   ],
   "source": [
    "term_3 = 2*alpha*s_13*(np.sin(2*theta_12))*(np.sin(2*theta_23))*(np.cos(delta_2+d_CP))*((np.sin(A*delta_2))/A)*((np.sin((A-1)*delta_2))/(A-1))"
   ]
  },
  {
   "cell_type": "code",
   "execution_count": 104,
   "id": "3cd21c3e",
   "metadata": {},
   "outputs": [
    {
     "name": "stderr",
     "output_type": "stream",
     "text": [
      "/tmp/ipykernel_586/2284626260.py:1: RuntimeWarning: invalid value encountered in true_divide\n",
      "  term_31 = 2*alpha*s_13*(np.sin(2*theta_12))*(np.sin(2*theta_23))*(np.cos(delta_2+d_CP_1))*((np.sin(A*delta_2))/A)*((np.sin((A-1)*delta_2))/(A-1))\n",
      "/tmp/ipykernel_586/2284626260.py:2: RuntimeWarning: invalid value encountered in true_divide\n",
      "  term_32 = 2*alpha*s_13*(np.sin(2*theta_12))*(np.sin(2*theta_23))*(np.cos(delta_2+d_CP_2))*((np.sin(A*delta_2))/A)*((np.sin((A-1)*delta_2))/(A-1))\n"
     ]
    }
   ],
   "source": [
    "term_31 = 2*alpha*s_13*(np.sin(2*theta_12))*(np.sin(2*theta_23))*(np.cos(delta_2+d_CP_1))*((np.sin(A*delta_2))/A)*((np.sin((A-1)*delta_2))/(A-1))\n",
    "term_32 = 2*alpha*s_13*(np.sin(2*theta_12))*(np.sin(2*theta_23))*(np.cos(delta_2+d_CP_2))*((np.sin(A*delta_2))/A)*((np.sin((A-1)*delta_2))/(A-1))"
   ]
  },
  {
   "cell_type": "code",
   "execution_count": 105,
   "id": "cdab9489",
   "metadata": {},
   "outputs": [],
   "source": [
    "P_3 =term_1+term_2+term_3\n",
    "P_31 =term_1+term_2+term_31\n",
    "P_32 =term_1+term_2+term_32\n"
   ]
  },
  {
   "cell_type": "code",
   "execution_count": 106,
   "id": "030e3cba",
   "metadata": {},
   "outputs": [
    {
     "data": {
      "text/plain": [
       "[<matplotlib.lines.Line2D at 0x7f7c0b5f6370>]"
      ]
     },
     "execution_count": 106,
     "metadata": {},
     "output_type": "execute_result"
    },
    {
     "data": {
      "image/png": "[encoded data removed]",
      "text/plain": [
       "<Figure size 432x288 with 1 Axes>"
      ]
     },
     "metadata": {
      "needs_background": "light"
     },
     "output_type": "display_data"
    }
   ],
   "source": [
    "plt.plot(E_1,P_3, color = 'r' , alpha =1)\n",
    "plt.plot(E_1,P_31, color = 'g', alpha = 0.5)\n",
    "plt.plot(E_1, P_32, alpha = 0.1)"
   ]
  },
  {
   "cell_type": "code",
   "execution_count": null,
   "id": "c3e2af84",
   "metadata": {},
   "outputs": [],
   "source": []
  },
  {
   "cell_type": "code",
   "execution_count": null,
   "id": "8fd94f63",
   "metadata": {},
   "outputs": [],
   "source": []
  },
  {
   "cell_type": "code",
   "execution_count": null,
   "id": "9aa9729c",
   "metadata": {},
   "outputs": [],
   "source": []
  }
 ],
 "metadata": {
  "kernelspec": {
   "display_name": "Python 3",
   "language": "python",
   "name": "python3"
  },
  "language_info": {
   "codemirror_mode": {
    "name": "ipython",
    "version": 3
   },
   "file_extension": ".py",
   "mimetype": "text/x-python",
   "name": "python",
   "nbconvert_exporter": "python",
   "pygments_lexer": "ipython3",
   "version": "3.9.6"
  }
 },
 "nbformat": 4,
 "nbformat_minor": 5
}
